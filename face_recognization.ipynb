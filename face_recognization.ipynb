{
 "cells": [
  {
   "cell_type": "code",
   "execution_count": 1,
   "metadata": {},
   "outputs": [],
   "source": [
    "import numpy as np\n",
    "import cv2\n",
    "import os"
   ]
  },
  {
   "cell_type": "code",
   "execution_count": 12,
   "metadata": {},
   "outputs": [],
   "source": [
    "def distance(x1,x2):\n",
    "    return np.sqrt(sum((x1-x2)**2))\n",
    "\n",
    "def knn(train,test,k=5):\n",
    "    \n",
    "    dist = []\n",
    "    m =train.shape[0]\n",
    "    \n",
    "    for i in range(m):\n",
    "        ix = train[i, :-1]\n",
    "        iy = train[i, -1]\n",
    "        \n",
    "        d = distance(ix,test)\n",
    "        dist.append([d,iy])\n",
    "        \n",
    "    \n",
    "    dk = sorted(dist, key = lambda x: x[0])[:k]\n",
    "    \n",
    "    #Get labels\n",
    "    labels = np.array(dk)[:,-1]\n",
    "    \n",
    "    #Get frequencies\n",
    "    output = np.unique(labels, return_counts= True)\n",
    "    \n",
    "    #get index\n",
    "    index = np.argmax(output[1])\n",
    "    \n",
    "    return output[0][index]"
   ]
  },
  {
   "cell_type": "code",
   "execution_count": 13,
   "metadata": {},
   "outputs": [
    {
     "name": "stdout",
     "output_type": "stream",
     "text": [
      "Loaded with Golu.npy\n",
      "(11, 30000)\n",
      "(11, 1)\n"
     ]
    },
    {
     "data": {
      "text/plain": [
       "(11, 30001)"
      ]
     },
     "execution_count": 13,
     "metadata": {},
     "output_type": "execute_result"
    }
   ],
   "source": [
    "import cv2\n",
    "\n",
    "cap = cv2.VideoCapture(0)\n",
    "face_cascade = cv2.CascadeClassifier('haarcascade_frontalface_alt.xml')\n",
    "\n",
    "skip = 0\n",
    "\n",
    "dataset_path = './data/'\n",
    "\n",
    "face_data = []\n",
    "labels = []\n",
    "\n",
    "class_id = 0 #label\n",
    "names = {} \n",
    "\n",
    "\n",
    "#Data Prep\n",
    "for fx in os.listdir(dataset_path):\n",
    "    if fx.endswith('.npy'):\n",
    "        names[class_id] = fx[:-4]\n",
    "        \n",
    "        print(\"Loaded with \"+fx)\n",
    "        \n",
    "        data_item = np.load(dataset_path+fx)\n",
    "        face_data.append(data_item)\n",
    "        \n",
    "        \n",
    "        #Create labels\n",
    "        target = class_id*np.ones((data_item.shape[0],))\n",
    "        class_id += 1\n",
    "        labels.append(target)\n",
    "        \n",
    "    \n",
    "# print(face_data)\n",
    "# print(labels)\n",
    "\n",
    "face_dataset = np.concatenate(face_data,axis = 0)\n",
    "face_labels = np.concatenate(labels, axis = 0).reshape((-1,1))\n",
    "\n",
    "print(face_dataset.shape)\n",
    "print(face_labels.shape)\n",
    "\n",
    "train_set = np.concatenate((face_dataset,face_labels),axis = 1)\n",
    "\n",
    "train_set.shape\n"
   ]
  },
  {
   "cell_type": "code",
   "execution_count": 14,
   "metadata": {},
   "outputs": [],
   "source": [
    "#Testing\n",
    "\n",
    "while True:\n",
    "    ret,frame = cap.read()\n",
    "    \n",
    "    if ret == False:\n",
    "        continue\n",
    "        \n",
    "    faces = face_cascade.detectMultiScale(frame,1.3,5)\n",
    "    \n",
    "    for x,y,w,h in faces:\n",
    "        offset = 10\n",
    "        \n",
    "        face_section = frame[y-offset:y+h+offset,x-offset:x+w+offset]\n",
    "        face_section = cv2.resize(face_section,(100,100))\n",
    "        \n",
    "        \n",
    "        #predicted\n",
    "        out = knn(train_set,face_section.flatten())\n",
    "        \n",
    "        #display name and rectangle around it\n",
    "        \n",
    "        pred_name = names[int(out)]\n",
    "        cv2.putText(frame,pred_name,(x,y-10),cv2.FONT_HERSHEY_COMPLEX,1,(255,0,0),2,cv2.LINE_AA)\n",
    "        cv2.rectangle(frame,(x,y),(x+w,y+h),(0,255,255),2)\n",
    "        \n",
    "    \n",
    "    cv2.imshow(\"Faces\",frame)\n",
    "    \n",
    "    key = cv2.waitKey(1) & 0xFF\n",
    "    if key == ord('q'):\n",
    "        break\n",
    "\n",
    "cap.release()\n",
    "cv2.destroyAllWindows()"
   ]
  },
  {
   "cell_type": "code",
   "execution_count": null,
   "metadata": {},
   "outputs": [],
   "source": []
  },
  {
   "cell_type": "code",
   "execution_count": null,
   "metadata": {},
   "outputs": [],
   "source": []
  }
 ],
 "metadata": {
  "kernelspec": {
   "display_name": "Python 3",
   "language": "python",
   "name": "python3"
  },
  "language_info": {
   "codemirror_mode": {
    "name": "ipython",
    "version": 3
   },
   "file_extension": ".py",
   "mimetype": "text/x-python",
   "name": "python",
   "nbconvert_exporter": "python",
   "pygments_lexer": "ipython3",
   "version": "3.7.1"
  }
 },
 "nbformat": 4,
 "nbformat_minor": 2
}
